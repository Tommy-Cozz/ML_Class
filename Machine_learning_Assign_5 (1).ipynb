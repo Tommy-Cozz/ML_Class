{
  "nbformat": 4,
  "nbformat_minor": 0,
  "metadata": {
    "colab": {
      "provenance": []
    },
    "kernelspec": {
      "name": "python3",
      "display_name": "Python 3"
    },
    "language_info": {
      "name": "python"
    }
  },
  "cells": [
    {
      "cell_type": "code",
      "execution_count": null,
      "metadata": {
        "colab": {
          "base_uri": "https://localhost:8080/"
        },
        "id": "TIpqcR5HP85X",
        "outputId": "17ce4cf0-6ab0-427b-e0b5-8a4ba20125e8"
      },
      "outputs": [
        {
          "output_type": "stream",
          "name": "stdout",
          "text": [
            "Iteration: 0, Cost: 0.6931, Theta: [ 1.   1.  -1.  -1.   0.5  0.5 -0.5 -0.5  0.   0.   0.   0. ] \n",
            "Iteration: 1, Cost: 1.5289, Theta: [ 2.52594473  2.52594473 -2.52594473 -2.52594473  1.47835465  1.47835465\n",
            " -1.47835465 -1.47835465  0.04325795  0.04325795 -0.04325795 -0.04325795] \n",
            "Iteration: 2, Cost: 3.3657, Theta: [ 4.34690711  4.34690711 -4.34690711 -4.34690711  2.59547506  2.59547506\n",
            " -2.59547506 -2.59547506  0.07321578  0.07321578 -0.07321578 -0.07321578] \n",
            "Final Theta: [ 4.34690711  4.34690711 -4.34690711 -4.34690711  2.59547506  2.59547506\n",
            " -2.59547506 -2.59547506  0.07321578  0.07321578 -0.07321578 -0.07321578]\n",
            "Predicted Class: [False False  True  True]\n"
          ]
        }
      ],
      "source": [
        "#TASK 1 Problem 6\n",
        "\n",
        "import numpy as np\n",
        "import pandas as pd\n",
        "\n",
        "\n",
        "df = pd.read_csv('/content/assign_5_data_1.csv')\n",
        "\n",
        "\n",
        "def sigmoid(z):\n",
        "  return 1/(1 + np.exp(z))\n",
        "\n",
        "\n",
        "num_features = 2\n",
        "theta = np.zeros((num_features + 1, 1))\n",
        "alpha = 0.5\n",
        "num_iterations = 3\n",
        "\n",
        "\n",
        "\n",
        "X = df.iloc[:, :num_features].values\n",
        "X = np.column_stack((np.ones(X.shape[0]), X))\n",
        "y = df['y'].values\n",
        "\n",
        "for iterations in range(num_iterations):\n",
        "    z = X.dot(theta)\n",
        "    h = sigmoid(z)\n",
        "    gradient = X.T.dot(h-y)\n",
        "    theta = theta - alpha * gradient\n",
        "\n",
        "    cost = -np.mean(y* np.log(h) + (1-y)* np.log(1-h))\n",
        "\n",
        "    print(f\"Iteration: {iterations}, Cost: {cost:.4f}, Theta: {theta.ravel()} \")\n",
        "\n",
        "\n",
        "print(f\"Final Theta: {theta.ravel()}\")\n",
        "\n",
        "\n",
        "def predict(features, theta):\n",
        "  features = np.insert(features, 0,1)\n",
        "  prob = sigmoid(features.dot(theta))\n",
        "  return prob >= .5 #Threshold of .5 for binary classification\n",
        "\n",
        "new_data = np.array([3.5, 2.5])\n",
        "prediction = predict(new_data, theta)\n",
        "print(f\"Predicted Class: {prediction}\")\n",
        "\n"
      ]
    },
    {
      "cell_type": "code",
      "source": [
        "#TASK 2 Problem 7\n",
        "\n",
        "import numpy as np\n",
        "import pandas as pd\n",
        "from sklearn.preprocessing import StandardScaler\n",
        "\n",
        "\n",
        "df = pd.read_csv('/content/assign_5_data_2.csv')\n",
        "\n",
        "X = df.iloc[:, :3]\n",
        "y = df['y']\n",
        "\n",
        "scaler = StandardScaler()\n",
        "X = scaler.fit_transform(X)\n",
        "\n",
        "lmdba =1.0\n",
        "theta = np.zeros(X.shape[1])\n",
        "\n",
        "alpha = .5\n",
        "num_iterations = 3\n",
        "\n",
        "regularization_term = lmdba * np.identity(X.shape[1])\n",
        "\n",
        "for iteration in range(num_iterations):\n",
        "  h = X.dot(theta)\n",
        "  error = h-y\n",
        "  gradient = (X.T.dot(error) + regularization_term.dot(theta)) / len(y)\n",
        "  theta -= alpha * gradient\n",
        "\n",
        "  cost = (1/(2*len(y))) * np.sum((error **2))\n",
        "  print(f\"Iteration: {iteration}, Cost: {cost:.4f}, Theta{theta}\")\n",
        "\n",
        "\n",
        "\n",
        "# def predict(new_data, theta):\n",
        "#   new_data = scaler.transform(new_data)\n",
        "#   predictions = new_data.dot(theta)\n",
        "#   return predictions\n",
        "\n",
        "# new_data = pd.read_csv('')\n",
        "# predicted_values = predict(new_data, theta)\n",
        "# print(f\"Predicted Values: {predicted_values}\")\n",
        "\n",
        "\n",
        "\n",
        "\n"
      ],
      "metadata": {
        "colab": {
          "base_uri": "https://localhost:8080/"
        },
        "id": "L7oWI86qTfDL",
        "outputId": "61f8b0ef-cdaa-4137-cd75-50eacb43fa01"
      },
      "execution_count": null,
      "outputs": [
        {
          "output_type": "stream",
          "name": "stdout",
          "text": [
            "Iteration: 0, Cost: 41.0625, Theta[2.68328157 2.54340371 2.66171647]\n",
            "Iteration: 1, Cost: 29.5885, Theta[1.27179875 0.96875635 1.12833274]\n",
            "Iteration: 2, Cost: 28.7771, Theta[2.18485213 1.77404103 2.00179932]\n"
          ]
        }
      ]
    },
    {
      "cell_type": "code",
      "source": [
        "#TASK 3 Problem 8\n",
        "\n",
        "from pandas.core.tools.datetimes import Scalar\n",
        "import numpy as np\n",
        "import pandas as pd\n",
        "from sklearn.preprocessing import StandardScaler\n",
        "\n",
        "df = pd.read_csv('/content/assign_5_data_3.csv')\n",
        "\n",
        "X = df.iloc[:, :2]\n",
        "y = df['y']\n",
        "unique_classes = np.unique(y)\n",
        "\n",
        "scaler = StandardScaler()\n",
        "X = scaler.fit_transform(X)\n",
        "\n",
        "num_classes = len(unique_classes)\n",
        "theta_dict= {}\n",
        "\n",
        "\n",
        "alpha = .5\n",
        "num_iterations = 3\n",
        "\n",
        "\n",
        "\n",
        "for cls in unique_classes:\n",
        "  binary_y = (y == cls).astype(int) # Create a binary target vector for the current class\n",
        "  theta = np.zeros(X.shape[1])   #Intialize theta with zeros (including the bias term)\n",
        "  cost_history = []\n",
        "  theta_history = []\n",
        "\n",
        "\n",
        "  for iteration in range(num_iterations):\n",
        "    h= X.dot(theta)\n",
        "    error = h- binary_y\n",
        "    gradient = X.T.dot(error)/ len(binary_y)\n",
        "    theta -= alpha * gradient\n",
        "\n",
        "    cost_history.append(cost)\n",
        "    theta_history.append(theta.copy())\n",
        "\n",
        "  theta_dict[cls] = theta\n",
        "\n",
        "  for iter, (cost,theta) in enumerate(zip(cost_history, theta_history)):\n",
        "    print(f\"Class {cls}, Iteration: {iter}, Cost = {cost:.4f}, Theta {theta}\")\n",
        "\n",
        "# def predict(new_data, theta_dict):\n",
        "#   new_data = scaler.transform(new_data)\n",
        "#   predictions = {}\n",
        "#   for cls, theta in theta_dict.items():\n",
        "#     prob = 1 / (1 + np.exp(-new_data.dot(theta)))\n",
        "#     predictions[cls] = prob\n",
        "\n",
        "#   predicted_class = max(predictions, key = predictions.get)\n",
        "#   return predicted_class\n",
        "\n",
        "\n",
        "# new_data = pd.read_csv('')\n",
        "# predicted_class = predict(new_data, theta_dict)\n",
        "# print(f\"Predicted Class: {predicted_class}\")\n",
        "\n",
        "\n",
        "\n",
        "\n",
        "\n"
      ],
      "metadata": {
        "colab": {
          "base_uri": "https://localhost:8080/"
        },
        "id": "e88PUnXmbYwp",
        "outputId": "453a794c-a568-43ba-9bb1-467906e5ffe3"
      },
      "execution_count": null,
      "outputs": [
        {
          "output_type": "stream",
          "name": "stdout",
          "text": [
            "Class 1, Iteration: 0, Cost = 28.7771, Theta [-0.10416667  0.11294531]\n",
            "Class 1, Iteration: 1, Cost = 28.7771, Theta [-0.18605639  0.19690765]\n",
            "Class 1, Iteration: 2, Cost = 28.7771, Theta [-0.249159    0.26049961]\n",
            "Class 2, Iteration: 0, Cost = 28.7771, Theta [0.22916667 0.11294531]\n",
            "Class 2, Iteration: 1, Cost = 28.7771, Theta [0.31394361 0.10894064]\n",
            "Class 2, Iteration: 2, Cost = 28.7771, Theta [0.35738892 0.08456557]\n",
            "Class 3, Iteration: 0, Cost = 28.7771, Theta [-0.125      -0.22589062]\n",
            "Class 3, Iteration: 1, Cost = 28.7771, Theta [-0.12788723 -0.30584829]\n",
            "Class 3, Iteration: 2, Cost = 28.7771, Theta [-0.10822993 -0.34506519]\n"
          ]
        }
      ]
    },
    {
      "cell_type": "code",
      "source": [],
      "metadata": {
        "id": "kzZykX-bfOb2"
      },
      "execution_count": null,
      "outputs": []
    }
  ]
}